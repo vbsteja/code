{
  "nbformat": 4,
  "nbformat_minor": 0,
  "metadata": {
    "colab": {
      "name": "stat101.ipynb",
      "version": "0.3.2",
      "provenance": [],
      "collapsed_sections": [
        "2y37dnuU5ocv"
      ],
      "include_colab_link": true
    },
    "kernelspec": {
      "name": "python3",
      "display_name": "Python 3"
    }
  },
  "cells": [
    {
      "cell_type": "markdown",
      "metadata": {
        "id": "view-in-github",
        "colab_type": "text"
      },
      "source": [
        "<a href=\"https://colab.research.google.com/github/vbsteja/code/blob/master/Python/probabilistic/stat101.ipynb\" target=\"_parent\"><img src=\"https://colab.research.google.com/assets/colab-badge.svg\" alt=\"Open In Colab\"/></a>"
      ]
    },
    {
      "cell_type": "code",
      "metadata": {
        "id": "s3jqcAoL2CM-",
        "colab_type": "code",
        "colab": {}
      },
      "source": [
        "import matplotlib.pyplot as plt\n",
        "import numpy as np\n",
        "import scipy.stats as stats\n",
        "\n",
        "np.seed = 33"
      ],
      "execution_count": 0,
      "outputs": []
    },
    {
      "cell_type": "code",
      "metadata": {
        "id": "jrKxl21E5hiQ",
        "colab_type": "code",
        "colab": {}
      },
      "source": [
        ""
      ],
      "execution_count": 0,
      "outputs": []
    },
    {
      "cell_type": "markdown",
      "metadata": {
        "id": "2y37dnuU5ocv",
        "colab_type": "text"
      },
      "source": [
        "#### Z Score significance"
      ]
    },
    {
      "cell_type": "code",
      "metadata": {
        "id": "vEwO_PDx2RNk",
        "colab_type": "code",
        "colab": {
          "base_uri": "https://localhost:8080/",
          "height": 214
        },
        "outputId": "9f796cb0-babb-43d6-cb46-3bb1d6b1f967"
      },
      "source": [
        "a = np.random.randint(100,1000,10)\n",
        "a_zscores = stats.zscore(a)\n",
        "plt.figure(1,figsize=(9,3))\n",
        "plt.subplot(2,1,1)\n",
        "plt.plot(a)\n",
        "plt.subplot(2,1,2)\n",
        "plt.plot(a_zscores)\n",
        "plt.show()"
      ],
      "execution_count": 7,
      "outputs": [
        {
          "output_type": "display_data",
          "data": {
            "image/png": "[encoded data removed]",
            "text/plain": [
              "<Figure size 648x216 with 2 Axes>"
            ]
          },
          "metadata": {
            "tags": []
          }
        }
      ]
    },
    {
      "cell_type": "code",
      "metadata": {
        "id": "zZ3el5zv2szP",
        "colab_type": "code",
        "colab": {}
      },
      "source": [
        ""
      ],
      "execution_count": 0,
      "outputs": []
    },
    {
      "cell_type": "markdown",
      "metadata": {
        "id": "HyoR9z6w5t4P",
        "colab_type": "text"
      },
      "source": [
        "#### Percentile Scores"
      ]
    },
    {
      "cell_type": "code",
      "metadata": {
        "id": "ZkjYHl6f5xDJ",
        "colab_type": "code",
        "colab": {}
      },
      "source": [
        ""
      ],
      "execution_count": 0,
      "outputs": []
    }
  ]
}