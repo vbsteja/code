{
 "cells": [
  {
   "cell_type": "code",
   "execution_count": 7,
   "metadata": {
    "collapsed": false
   },
   "outputs": [
    {
     "name": "stdout",
     "output_type": "stream",
     "text": [
      "surya\n",
      "10\n",
      "<class 'str'>\n",
      "<class 'int'>\n"
     ]
    }
   ],
   "source": [
    "a=input()\n",
    "b=int(input())\n",
    "print(type(a))\n",
    "print(type(b))\n"
   ]
  },
  {
   "cell_type": "code",
   "execution_count": 15,
   "metadata": {
    "collapsed": false
   },
   "outputs": [
    {
     "name": "stdout",
     "output_type": "stream",
     "text": [
      "hello 20 Hui\n"
     ]
    },
    {
     "data": {
      "text/plain": [
       "6"
      ]
     },
     "execution_count": 15,
     "metadata": {},
     "output_type": "execute_result"
    }
   ],
   "source": [
    "import pandas as pd\n",
    "a=10\n",
    "print(\"hello\",a+10,\"Hui\")\n",
    "import random \n",
    "random.choice(range(20))\n"
   ]
  },
  {
   "cell_type": "code",
   "execution_count": 8,
   "metadata": {
    "collapsed": false
   },
   "outputs": [
    {
     "name": "stdout",
     "output_type": "stream",
     "text": [
      "Hi welcome to guessing game\n",
      "There are a maximum of 5 attempts, and the number will always be leser than or equal to  20\n",
      "surya\n",
      "Please enter your guess\n",
      "10\n",
      "sorry, try a bit greater number\n",
      "you have left  4 attempts\n",
      "Please enter your guess\n",
      "15\n",
      "sorry, try a bit greater number\n",
      "you have left  3 attempts\n",
      "Please enter your guess\n",
      "18\n",
      "Sorry, Try a bit lesser number\n",
      "you have left  2 attempts\n",
      "Please enter your guess\n",
      "17\n",
      "Sorry, Try a bit lesser number\n",
      "you have left  1 attempts\n",
      "Please enter your guess\n",
      "16\n",
      "Congrats, you have won. :)\n"
     ]
    }
   ],
   "source": [
    "import random\n",
    "def guessing_game(name,actual):\n",
    "    #guess = int(input())\n",
    "    #print(type(guess))\n",
    "    counter,maxx,guess=0,5,-1\n",
    "    while(guess != actual):\n",
    "        print(\"Please enter your guess\")\n",
    "        guess = int(input())\n",
    "        counter+=1\n",
    "        if(guess < actual):\n",
    "            print(\"sorry, try a bit greater number\")\n",
    "            print(\"you have left \",maxx-counter,\"attempts\")\n",
    "        elif(guess > actual):\n",
    "            print(\"Sorry, Try a bit lesser number\")\n",
    "            print(\"you have left \",maxx-counter,\"attempts\")\n",
    "        else:\n",
    "            print(\"Congrats, you have won. :)\")\n",
    "            \n",
    "print(\"Hi welcome to guessing game\")\n",
    "print(\"There are a maximum of 5 attempts, and the number will always be leser than or equal to  20\")\n",
    "Name=input()\n",
    "guessing_game(Name,random.choice(range(20)))"
   ]
  }
 ],
 "metadata": {
  "kernelspec": {
   "display_name": "Python 3",
   "language": "python",
   "name": "python3"
  },
  "language_info": {
   "codemirror_mode": {
    "name": "ipython",
    "version": 3
   },
   "file_extension": ".py",
   "mimetype": "text/x-python",
   "name": "python",
   "nbconvert_exporter": "python",
   "pygments_lexer": "ipython3",
   "version": "3.5.1+"
  }
 },
 "nbformat": 4,
 "nbformat_minor": 0
}
