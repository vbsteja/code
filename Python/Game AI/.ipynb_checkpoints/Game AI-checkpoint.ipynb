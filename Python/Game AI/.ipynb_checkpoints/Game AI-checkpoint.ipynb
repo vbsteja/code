{
 "cells": [
  {
   "cell_type": "code",
   "execution_count": null,
   "metadata": {
    "collapsed": true
   },
   "outputs": [],
   "source": [
    "import gym\n",
    "from environment import Environment\n",
    "from train import Trainer\n",
    "from dqn import DQN\n",
    "\n",
    "env  = Environment(args)\n",
    "agent  = DQN (env,args)\n",
    "\n",
    "#Train Agent\n",
    "Trainer(agent).run()\n",
    "\n",
    "#Play the game\n",
    "env.gym.monitor.start(args.out,force=True)\n",
    "agent.play()\n",
    "env.gym.monitor.close()\n",
    "\n"
   ]
  }
 ],
 "metadata": {
  "kernelspec": {
   "display_name": "Python 3",
   "language": "python",
   "name": "python3"
  },
  "language_info": {
   "codemirror_mode": {
    "name": "ipython",
    "version": 3
   },
   "file_extension": ".py",
   "mimetype": "text/x-python",
   "name": "python",
   "nbconvert_exporter": "python",
   "pygments_lexer": "ipython3",
   "version": "3.6.0"
  }
 },
 "nbformat": 4,
 "nbformat_minor": 2
}
