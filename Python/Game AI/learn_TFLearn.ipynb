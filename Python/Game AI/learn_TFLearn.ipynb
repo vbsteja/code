{
 "cells": [
  {
   "cell_type": "code",
   "execution_count": 1,
   "metadata": {
    "collapsed": false
   },
   "outputs": [
    {
     "name": "stdout",
     "output_type": "stream",
     "text": [
      "Training Step: 1000  | total loss: \u001b[1m\u001b[32m0.15393\u001b[0m\u001b[0m\n",
      "| SGD | epoch: 1000 | loss: 0.15393 - R2: 0.9918 -- iter: 17/17\n",
      "\n",
      " Regression result:\n",
      "Y = [ 0.24822162]*X + [ 0.82300013]\n",
      "\n",
      " Test Prediction for x = 3.2, 3.3, 3.4\n",
      "[1.617309331893921, 1.6421314477920532, 1.666953682899475]\n"
     ]
    }
   ],
   "source": [
    "#!/usr/bin/python2\n",
    "\"\"\" Linear Regression Example \"\"\"\n",
    "\n",
    "from __future__ import absolute_import, division, print_function\n",
    "\n",
    "import tflearn\n",
    "\n",
    "# Regression data\n",
    "X = [3.3, 4.4, 5.5, 6.71, 6.93, 4.168, 9.779, 6.182, 7.59, 2.167, 7.042, 10.791, 5.313, 7.997, 5.654, 9.27, 3.1]\n",
    "Y = [1.7, 2.76, 2.09, 3.19, 1.694, 1.573, 3.366, 2.596, 2.53, 1.221, 2.827, 3.465, 1.65, 2.904, 2.42, 2.94, 1.3]\n",
    "\n",
    "# Linear Regression graph\n",
    "input_ = tflearn.input_data(shape=[None])\n",
    "linear = tflearn.single_unit(input_)\n",
    "regression = tflearn.regression(linear, optimizer = 'sgd', loss='mean_square',\n",
    "                                        metric='R2', learning_rate=0.01);\n",
    "m = tflearn.DNN(regression)\n",
    "m.fit(X, Y, n_epoch=1000, show_metric = True, snapshot_epoch=False )\n",
    "\n",
    "print(\"\\n Regression result:\")\n",
    "print(\"Y = \" + str(m.get_weights(linear.W)) +\n",
    "        \"*X + \" + str(m.get_weights(linear.b)))\n",
    "print(\"\\n Test Prediction for x = 3.2, 3.3, 3.4\")\n",
    "print(m.predict([3.2, 3.3, 3.4])) \n",
    "\n"
   ]
  },
  {
   "cell_type": "code",
   "execution_count": null,
   "metadata": {
    "collapsed": true
   },
   "outputs": [],
   "source": [
    "#Training Logica Operatos\n",
    "import tensorflow as tf\n",
    "import tflearn as t\n",
    "\n",
    "from __future__ import absolute_import, division, print_function\n",
    "\n",
    "X = [[0.], [1.]]\n",
    "Y = [[1.], [0.]]\n",
    "\n"
   ]
  }
 ],
 "metadata": {
  "kernelspec": {
   "display_name": "Python 2",
   "language": "python",
   "name": "python2"
  },
  "language_info": {
   "codemirror_mode": {
    "name": "ipython",
    "version": 2
   },
   "file_extension": ".py",
   "mimetype": "text/x-python",
   "name": "python",
   "nbconvert_exporter": "python",
   "pygments_lexer": "ipython2",
   "version": "2.7.13"
  }
 },
 "nbformat": 4,
 "nbformat_minor": 2
}
