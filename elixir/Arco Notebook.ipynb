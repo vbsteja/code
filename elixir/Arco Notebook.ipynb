{
 "cells": [
  {
   "cell_type": "code",
   "execution_count": 3,
   "metadata": {
    "collapsed": false
   },
   "outputs": [
    {
     "name": "stdout",
     "output_type": "stream",
     "text": [
      "Hello world\n",
      "Hello\n"
     ]
    },
    {
     "data": {
      "text/plain": [
       ":ok"
      ]
     },
     "execution_count": 3,
     "metadata": {},
     "output_type": "execute_result"
    }
   ],
   "source": [
    "defmodule Hello do\n",
    "    IO.puts \"Hello world\"\n",
    "    def p ,do: IO.puts \"Hello\"\n",
    "end\n",
    "Hello.p"
   ]
  },
  {
   "cell_type": "code",
   "execution_count": null,
   "metadata": {
    "collapsed": true
   },
   "outputs": [],
   "source": [
    "defmodule FibAgent do\n",
    "    def start_link do\n",
    "       Agent.start_link(fn -> %{ 0 => 0, 1 => 1 } end)\n",
    "    end\n",
    "    def fib(pid,n) when n>=0 do\n",
    "        Agent.get_and_update(pid,&do_fib(&1,n))\n",
    "    end\n",
    "    \n",
    "        "
   ]
  }
 ],
 "metadata": {
  "kernelspec": {
   "display_name": "ielixir",
   "language": "Elixir",
   "name": "ielixir"
  },
  "language_info": {
   "codemirror_mode": "erlang",
   "file_extension": "ex",
   "mimetype": "text/x-elixir",
   "name": "elixir",
   "nbconvert_exporter": "",
   "pygments_lexer": "pygments.lexers.erlang.ElixirLexer",
   "version": "#Version<1.3.0>"
  }
 },
 "nbformat": 4,
 "nbformat_minor": 0
}
